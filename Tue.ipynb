{
 "cells": [
  {
   "cell_type": "markdown",
   "metadata": {},
   "source": [
    "# Python project \n",
    "\n",
    "The purpose and goals with this report is to explore with functions and syntax in python, \n",
    "\n",
    "to find information in the data and to learn the fundamental basics infrastructures within python.\n",
    "\n",
    "The analysis has conducted findings and insicts.\n"
   ]
  },
  {
   "cell_type": "markdown",
   "metadata": {},
   "source": [
    "starting with the dependencies"
   ]
  },
  {
   "cell_type": "code",
   "execution_count": 44,
   "metadata": {},
   "outputs": [],
   "source": [
    "import pandas as pd\n",
    "import matplotlib.pyplot as plt\n",
    "import scipy.stats\n",
    "import numpy as np"
   ]
  },
  {
   "cell_type": "code",
   "execution_count": 45,
   "metadata": {},
   "outputs": [],
   "source": [
    "df = pd.read_csv('/Users/lucy/Documents/Vinter/merged_goldeikon.csv')"
   ]
  },
  {
   "cell_type": "markdown",
   "metadata": {},
   "source": [
    "# Describe Data set \n",
    "when describing the dataset we get a summary and overview on the dataset and it's context"
   ]
  },
  {
   "cell_type": "code",
   "execution_count": 46,
   "metadata": {},
   "outputs": [
    {
     "data": {
      "text/html": [
       "<div>\n",
       "<style scoped>\n",
       "    .dataframe tbody tr th:only-of-type {\n",
       "        vertical-align: middle;\n",
       "    }\n",
       "\n",
       "    .dataframe tbody tr th {\n",
       "        vertical-align: top;\n",
       "    }\n",
       "\n",
       "    .dataframe thead th {\n",
       "        text-align: right;\n",
       "    }\n",
       "</style>\n",
       "<table border=\"1\" class=\"dataframe\">\n",
       "  <thead>\n",
       "    <tr style=\"text-align: right;\">\n",
       "      <th></th>\n",
       "      <th>datetime</th>\n",
       "      <th>close</th>\n",
       "      <th>amount</th>\n",
       "      <th>ex_symbol</th>\n",
       "    </tr>\n",
       "  </thead>\n",
       "  <tbody>\n",
       "    <tr>\n",
       "      <th>0</th>\n",
       "      <td>2021-02-04</td>\n",
       "      <td>173.26</td>\n",
       "      <td>354292.0</td>\n",
       "      <td>l_sgld</td>\n",
       "    </tr>\n",
       "    <tr>\n",
       "      <th>1</th>\n",
       "      <td>2021-02-03</td>\n",
       "      <td>177.79</td>\n",
       "      <td>26805.0</td>\n",
       "      <td>l_sgld</td>\n",
       "    </tr>\n",
       "    <tr>\n",
       "      <th>2</th>\n",
       "      <td>2021-02-02</td>\n",
       "      <td>177.91</td>\n",
       "      <td>21356.0</td>\n",
       "      <td>l_sgld</td>\n",
       "    </tr>\n",
       "    <tr>\n",
       "      <th>3</th>\n",
       "      <td>2021-02-01</td>\n",
       "      <td>180.30</td>\n",
       "      <td>38422.0</td>\n",
       "      <td>l_sgld</td>\n",
       "    </tr>\n",
       "    <tr>\n",
       "      <th>4</th>\n",
       "      <td>2021-01-29</td>\n",
       "      <td>179.91</td>\n",
       "      <td>102532.0</td>\n",
       "      <td>l_sgld</td>\n",
       "    </tr>\n",
       "  </tbody>\n",
       "</table>\n",
       "</div>"
      ],
      "text/plain": [
       "     datetime   close    amount ex_symbol\n",
       "0  2021-02-04  173.26  354292.0    l_sgld\n",
       "1  2021-02-03  177.79   26805.0    l_sgld\n",
       "2  2021-02-02  177.91   21356.0    l_sgld\n",
       "3  2021-02-01  180.30   38422.0    l_sgld\n",
       "4  2021-01-29  179.91  102532.0    l_sgld"
      ]
     },
     "execution_count": 46,
     "metadata": {},
     "output_type": "execute_result"
    }
   ],
   "source": [
    "df.head(5)"
   ]
  },
  {
   "cell_type": "code",
   "execution_count": 47,
   "metadata": {},
   "outputs": [
    {
     "data": {
      "text/html": [
       "<div>\n",
       "<style scoped>\n",
       "    .dataframe tbody tr th:only-of-type {\n",
       "        vertical-align: middle;\n",
       "    }\n",
       "\n",
       "    .dataframe tbody tr th {\n",
       "        vertical-align: top;\n",
       "    }\n",
       "\n",
       "    .dataframe thead th {\n",
       "        text-align: right;\n",
       "    }\n",
       "</style>\n",
       "<table border=\"1\" class=\"dataframe\">\n",
       "  <thead>\n",
       "    <tr style=\"text-align: right;\">\n",
       "      <th></th>\n",
       "      <th>close</th>\n",
       "      <th>amount</th>\n",
       "    </tr>\n",
       "  </thead>\n",
       "  <tbody>\n",
       "    <tr>\n",
       "      <th>count</th>\n",
       "      <td>11968.000000</td>\n",
       "      <td>1.196800e+04</td>\n",
       "    </tr>\n",
       "    <tr>\n",
       "      <th>mean</th>\n",
       "      <td>253.108282</td>\n",
       "      <td>1.041352e+05</td>\n",
       "    </tr>\n",
       "    <tr>\n",
       "      <th>std</th>\n",
       "      <td>385.863657</td>\n",
       "      <td>4.346516e+05</td>\n",
       "    </tr>\n",
       "    <tr>\n",
       "      <th>min</th>\n",
       "      <td>21.260000</td>\n",
       "      <td>1.000000e+00</td>\n",
       "    </tr>\n",
       "    <tr>\n",
       "      <th>25%</th>\n",
       "      <td>119.560000</td>\n",
       "      <td>3.008250e+03</td>\n",
       "    </tr>\n",
       "    <tr>\n",
       "      <th>50%</th>\n",
       "      <td>126.345000</td>\n",
       "      <td>1.163700e+04</td>\n",
       "    </tr>\n",
       "    <tr>\n",
       "      <th>75%</th>\n",
       "      <td>155.030000</td>\n",
       "      <td>5.586175e+04</td>\n",
       "    </tr>\n",
       "    <tr>\n",
       "      <th>max</th>\n",
       "      <td>1959.000000</td>\n",
       "      <td>1.708597e+07</td>\n",
       "    </tr>\n",
       "  </tbody>\n",
       "</table>\n",
       "</div>"
      ],
      "text/plain": [
       "              close        amount\n",
       "count  11968.000000  1.196800e+04\n",
       "mean     253.108282  1.041352e+05\n",
       "std      385.863657  4.346516e+05\n",
       "min       21.260000  1.000000e+00\n",
       "25%      119.560000  3.008250e+03\n",
       "50%      126.345000  1.163700e+04\n",
       "75%      155.030000  5.586175e+04\n",
       "max     1959.000000  1.708597e+07"
      ]
     },
     "execution_count": 47,
     "metadata": {},
     "output_type": "execute_result"
    }
   ],
   "source": [
    "df.describe()"
   ]
  },
  {
   "cell_type": "code",
   "execution_count": 48,
   "metadata": {},
   "outputs": [
    {
     "data": {
      "text/plain": [
       "RangeIndex(start=0, stop=11968, step=1)"
      ]
     },
     "execution_count": 48,
     "metadata": {},
     "output_type": "execute_result"
    }
   ],
   "source": [
    "df.index"
   ]
  },
  {
   "cell_type": "code",
   "execution_count": 49,
   "metadata": {},
   "outputs": [
    {
     "data": {
      "text/html": [
       "<div>\n",
       "<style scoped>\n",
       "    .dataframe tbody tr th:only-of-type {\n",
       "        vertical-align: middle;\n",
       "    }\n",
       "\n",
       "    .dataframe tbody tr th {\n",
       "        vertical-align: top;\n",
       "    }\n",
       "\n",
       "    .dataframe thead th {\n",
       "        text-align: right;\n",
       "    }\n",
       "</style>\n",
       "<table border=\"1\" class=\"dataframe\">\n",
       "  <thead>\n",
       "    <tr style=\"text-align: right;\">\n",
       "      <th></th>\n",
       "      <th>datetime</th>\n",
       "      <th>close</th>\n",
       "      <th>amount</th>\n",
       "    </tr>\n",
       "    <tr>\n",
       "      <th>ex_symbol</th>\n",
       "      <th></th>\n",
       "      <th></th>\n",
       "      <th></th>\n",
       "    </tr>\n",
       "  </thead>\n",
       "  <tbody>\n",
       "    <tr>\n",
       "      <th>l_sgld</th>\n",
       "      <td>2021-02-04</td>\n",
       "      <td>173.26</td>\n",
       "      <td>354292.0</td>\n",
       "    </tr>\n",
       "    <tr>\n",
       "      <th>l_sgld</th>\n",
       "      <td>2021-02-03</td>\n",
       "      <td>177.79</td>\n",
       "      <td>26805.0</td>\n",
       "    </tr>\n",
       "    <tr>\n",
       "      <th>l_sgld</th>\n",
       "      <td>2021-02-02</td>\n",
       "      <td>177.91</td>\n",
       "      <td>21356.0</td>\n",
       "    </tr>\n",
       "    <tr>\n",
       "      <th>l_sgld</th>\n",
       "      <td>2021-02-01</td>\n",
       "      <td>180.30</td>\n",
       "      <td>38422.0</td>\n",
       "    </tr>\n",
       "    <tr>\n",
       "      <th>l_sgld</th>\n",
       "      <td>2021-01-29</td>\n",
       "      <td>179.91</td>\n",
       "      <td>102532.0</td>\n",
       "    </tr>\n",
       "    <tr>\n",
       "      <th>...</th>\n",
       "      <td>...</td>\n",
       "      <td>...</td>\n",
       "      <td>...</td>\n",
       "    </tr>\n",
       "    <tr>\n",
       "      <th>s_zgldus</th>\n",
       "      <td>2016-01-08</td>\n",
       "      <td>1072.90</td>\n",
       "      <td>1862.0</td>\n",
       "    </tr>\n",
       "    <tr>\n",
       "      <th>s_zgldus</th>\n",
       "      <td>2016-01-07</td>\n",
       "      <td>1076.09</td>\n",
       "      <td>12058.0</td>\n",
       "    </tr>\n",
       "    <tr>\n",
       "      <th>s_zgldus</th>\n",
       "      <td>2016-01-06</td>\n",
       "      <td>1060.15</td>\n",
       "      <td>4357.0</td>\n",
       "    </tr>\n",
       "    <tr>\n",
       "      <th>s_zgldus</th>\n",
       "      <td>2016-01-05</td>\n",
       "      <td>1046.98</td>\n",
       "      <td>2986.0</td>\n",
       "    </tr>\n",
       "    <tr>\n",
       "      <th>s_zgldus</th>\n",
       "      <td>2016-01-04</td>\n",
       "      <td>1048.21</td>\n",
       "      <td>542.0</td>\n",
       "    </tr>\n",
       "  </tbody>\n",
       "</table>\n",
       "<p>11968 rows × 3 columns</p>\n",
       "</div>"
      ],
      "text/plain": [
       "             datetime    close    amount\n",
       "ex_symbol                               \n",
       "l_sgld     2021-02-04   173.26  354292.0\n",
       "l_sgld     2021-02-03   177.79   26805.0\n",
       "l_sgld     2021-02-02   177.91   21356.0\n",
       "l_sgld     2021-02-01   180.30   38422.0\n",
       "l_sgld     2021-01-29   179.91  102532.0\n",
       "...               ...      ...       ...\n",
       "s_zgldus   2016-01-08  1072.90    1862.0\n",
       "s_zgldus   2016-01-07  1076.09   12058.0\n",
       "s_zgldus   2016-01-06  1060.15    4357.0\n",
       "s_zgldus   2016-01-05  1046.98    2986.0\n",
       "s_zgldus   2016-01-04  1048.21     542.0\n",
       "\n",
       "[11968 rows x 3 columns]"
      ]
     },
     "execution_count": 49,
     "metadata": {},
     "output_type": "execute_result"
    }
   ],
   "source": [
    "df.set_index('ex_symbol')"
   ]
  },
  {
   "cell_type": "markdown",
   "metadata": {},
   "source": [
    "# Exchange Traded Fund\n",
    "We can find information about the diffrent etf's and it's values"
   ]
  },
  {
   "cell_type": "code",
   "execution_count": 50,
   "metadata": {},
   "outputs": [
    {
     "data": {
      "text/plain": [
       "0    l_sgld\n",
       "1    l_sgld\n",
       "2    l_sgld\n",
       "3    l_sgld\n",
       "4    l_sgld\n",
       "Name: ex_symbol, dtype: object"
      ]
     },
     "execution_count": 50,
     "metadata": {},
     "output_type": "execute_result"
    }
   ],
   "source": [
    "df['ex_symbol'].head()"
   ]
  },
  {
   "cell_type": "code",
   "execution_count": 52,
   "metadata": {},
   "outputs": [
    {
     "data": {
      "text/plain": [
       "datetime      object\n",
       "close        float64\n",
       "amount       float64\n",
       "ex_symbol     object\n",
       "dtype: object"
      ]
     },
     "execution_count": 52,
     "metadata": {},
     "output_type": "execute_result"
    }
   ],
   "source": [
    "df.dtypes"
   ]
  },
  {
   "cell_type": "code",
   "execution_count": 53,
   "metadata": {},
   "outputs": [
    {
     "data": {
      "text/plain": [
       "array(['l_sgld', 's_sgld', 'l_igln', 'l_xgld', 's_xgld', 'l_gbsx',\n",
       "       'l_phau', 's_csgold', 'l_sgbs', 's_zgldus'], dtype=object)"
      ]
     },
     "execution_count": 53,
     "metadata": {},
     "output_type": "execute_result"
    }
   ],
   "source": [
    "df['ex_symbol'].unique()"
   ]
  },
  {
   "cell_type": "code",
   "execution_count": 54,
   "metadata": {},
   "outputs": [
    {
     "data": {
      "text/plain": [
       "10"
      ]
     },
     "execution_count": 54,
     "metadata": {},
     "output_type": "execute_result"
    }
   ],
   "source": [
    "df['ex_symbol'].nunique()"
   ]
  },
  {
   "cell_type": "code",
   "execution_count": 55,
   "metadata": {},
   "outputs": [
    {
     "data": {
      "text/plain": [
       "count      11968\n",
       "unique        10\n",
       "top       l_xgld\n",
       "freq        1289\n",
       "Name: ex_symbol, dtype: object"
      ]
     },
     "execution_count": 55,
     "metadata": {},
     "output_type": "execute_result"
    }
   ],
   "source": [
    "df[\"ex_symbol\"].describe()"
   ]
  },
  {
   "cell_type": "code",
   "execution_count": 56,
   "metadata": {},
   "outputs": [
    {
     "data": {
      "text/plain": [
       "l_xgld      1289\n",
       "l_igln      1289\n",
       "l_gbsx      1289\n",
       "l_phau      1289\n",
       "l_sgld      1289\n",
       "l_sgbs      1280\n",
       "s_zgldus    1279\n",
       "s_csgold    1279\n",
       "s_sgld      1005\n",
       "s_xgld       680\n",
       "Name: ex_symbol, dtype: int64"
      ]
     },
     "execution_count": 56,
     "metadata": {},
     "output_type": "execute_result"
    }
   ],
   "source": [
    "df[\"ex_symbol\"].value_counts()"
   ]
  },
  {
   "cell_type": "code",
   "execution_count": 57,
   "metadata": {},
   "outputs": [
    {
     "data": {
      "text/html": [
       "<div>\n",
       "<style scoped>\n",
       "    .dataframe tbody tr th:only-of-type {\n",
       "        vertical-align: middle;\n",
       "    }\n",
       "\n",
       "    .dataframe tbody tr th {\n",
       "        vertical-align: top;\n",
       "    }\n",
       "\n",
       "    .dataframe thead th {\n",
       "        text-align: right;\n",
       "    }\n",
       "</style>\n",
       "<table border=\"1\" class=\"dataframe\">\n",
       "  <thead>\n",
       "    <tr style=\"text-align: right;\">\n",
       "      <th></th>\n",
       "      <th>exsymbol</th>\n",
       "      <th>value</th>\n",
       "    </tr>\n",
       "  </thead>\n",
       "  <tbody>\n",
       "    <tr>\n",
       "      <th>0</th>\n",
       "      <td>l_gbsx</td>\n",
       "      <td>1289</td>\n",
       "    </tr>\n",
       "    <tr>\n",
       "      <th>1</th>\n",
       "      <td>l_xgld</td>\n",
       "      <td>1289</td>\n",
       "    </tr>\n",
       "    <tr>\n",
       "      <th>2</th>\n",
       "      <td>l_igln</td>\n",
       "      <td>1289</td>\n",
       "    </tr>\n",
       "    <tr>\n",
       "      <th>3</th>\n",
       "      <td>l_sgld</td>\n",
       "      <td>1289</td>\n",
       "    </tr>\n",
       "    <tr>\n",
       "      <th>4</th>\n",
       "      <td>l_phau</td>\n",
       "      <td>1289</td>\n",
       "    </tr>\n",
       "  </tbody>\n",
       "</table>\n",
       "</div>"
      ],
      "text/plain": [
       "  exsymbol  value\n",
       "0   l_gbsx   1289\n",
       "1   l_xgld   1289\n",
       "2   l_igln   1289\n",
       "3   l_sgld   1289\n",
       "4   l_phau   1289"
      ]
     },
     "execution_count": 57,
     "metadata": {},
     "output_type": "execute_result"
    }
   ],
   "source": [
    "exsymbol_df = pd.DataFrame( {     \n",
    "\"exsymbol\" : ['l_gbsx', 'l_xgld', 'l_igln', 'l_sgld', 'l_phau', 'l_sgbs', 's_csgold', 's_zgldus', 's_sgld', 's_xgld'] ,\n",
    "\"value\" : [1289, 1289, 1289, 1289, 1289, 1280, 1279, 1279, 1005, 680]\n",
    "})\n",
    "exsymbol_df.head()"
   ]
  },
  {
   "cell_type": "code",
   "execution_count": 58,
   "metadata": {},
   "outputs": [
    {
     "data": {
      "text/html": [
       "<div>\n",
       "<style scoped>\n",
       "    .dataframe tbody tr th:only-of-type {\n",
       "        vertical-align: middle;\n",
       "    }\n",
       "\n",
       "    .dataframe tbody tr th {\n",
       "        vertical-align: top;\n",
       "    }\n",
       "\n",
       "    .dataframe thead tr th {\n",
       "        text-align: left;\n",
       "    }\n",
       "\n",
       "    .dataframe thead tr:last-of-type th {\n",
       "        text-align: right;\n",
       "    }\n",
       "</style>\n",
       "<table border=\"1\" class=\"dataframe\">\n",
       "  <thead>\n",
       "    <tr>\n",
       "      <th></th>\n",
       "      <th colspan=\"10\" halign=\"left\">close</th>\n",
       "      <th colspan=\"10\" halign=\"left\">amount</th>\n",
       "    </tr>\n",
       "    <tr>\n",
       "      <th>ex_symbol</th>\n",
       "      <th>l_gbsx</th>\n",
       "      <th>l_igln</th>\n",
       "      <th>l_phau</th>\n",
       "      <th>l_sgbs</th>\n",
       "      <th>l_sgld</th>\n",
       "      <th>l_xgld</th>\n",
       "      <th>s_csgold</th>\n",
       "      <th>s_sgld</th>\n",
       "      <th>s_xgld</th>\n",
       "      <th>s_zgldus</th>\n",
       "      <th>l_gbsx</th>\n",
       "      <th>l_igln</th>\n",
       "      <th>l_phau</th>\n",
       "      <th>l_sgbs</th>\n",
       "      <th>l_sgld</th>\n",
       "      <th>l_xgld</th>\n",
       "      <th>s_csgold</th>\n",
       "      <th>s_sgld</th>\n",
       "      <th>s_xgld</th>\n",
       "      <th>s_zgldus</th>\n",
       "    </tr>\n",
       "    <tr>\n",
       "      <th>datetime</th>\n",
       "      <th></th>\n",
       "      <th></th>\n",
       "      <th></th>\n",
       "      <th></th>\n",
       "      <th></th>\n",
       "      <th></th>\n",
       "      <th></th>\n",
       "      <th></th>\n",
       "      <th></th>\n",
       "      <th></th>\n",
       "      <th></th>\n",
       "      <th></th>\n",
       "      <th></th>\n",
       "      <th></th>\n",
       "      <th></th>\n",
       "      <th></th>\n",
       "      <th></th>\n",
       "      <th></th>\n",
       "      <th></th>\n",
       "      <th></th>\n",
       "    </tr>\n",
       "  </thead>\n",
       "  <tbody>\n",
       "    <tr>\n",
       "      <th>2016-01-04</th>\n",
       "      <td>102.54</td>\n",
       "      <td>21.26</td>\n",
       "      <td>103.78</td>\n",
       "      <td>105.05</td>\n",
       "      <td>105.53</td>\n",
       "      <td>105.82</td>\n",
       "      <td>105.54</td>\n",
       "      <td>105.91</td>\n",
       "      <td>105.86</td>\n",
       "      <td>1048.21</td>\n",
       "      <td>35927.0</td>\n",
       "      <td>48848.0</td>\n",
       "      <td>33808.0</td>\n",
       "      <td>1567.0</td>\n",
       "      <td>24000.0</td>\n",
       "      <td>4897.0</td>\n",
       "      <td>4263.0</td>\n",
       "      <td>8163.0</td>\n",
       "      <td>2000.0</td>\n",
       "      <td>542.0</td>\n",
       "    </tr>\n",
       "    <tr>\n",
       "      <th>2016-01-05</th>\n",
       "      <td>102.82</td>\n",
       "      <td>21.32</td>\n",
       "      <td>104.23</td>\n",
       "      <td>105.32</td>\n",
       "      <td>105.81</td>\n",
       "      <td>106.08</td>\n",
       "      <td>105.43</td>\n",
       "      <td>105.65</td>\n",
       "      <td>NaN</td>\n",
       "      <td>1046.98</td>\n",
       "      <td>33608.0</td>\n",
       "      <td>9965.0</td>\n",
       "      <td>36818.0</td>\n",
       "      <td>10031.0</td>\n",
       "      <td>83773.0</td>\n",
       "      <td>3206.0</td>\n",
       "      <td>1110.0</td>\n",
       "      <td>8000.0</td>\n",
       "      <td>NaN</td>\n",
       "      <td>2986.0</td>\n",
       "    </tr>\n",
       "    <tr>\n",
       "      <th>2016-01-06</th>\n",
       "      <td>103.97</td>\n",
       "      <td>21.55</td>\n",
       "      <td>105.45</td>\n",
       "      <td>106.52</td>\n",
       "      <td>107.06</td>\n",
       "      <td>107.29</td>\n",
       "      <td>106.63</td>\n",
       "      <td>106.80</td>\n",
       "      <td>NaN</td>\n",
       "      <td>1060.15</td>\n",
       "      <td>64732.0</td>\n",
       "      <td>46331.0</td>\n",
       "      <td>64272.0</td>\n",
       "      <td>18042.0</td>\n",
       "      <td>1111497.0</td>\n",
       "      <td>7774.0</td>\n",
       "      <td>6468.0</td>\n",
       "      <td>33995.0</td>\n",
       "      <td>NaN</td>\n",
       "      <td>4357.0</td>\n",
       "    </tr>\n",
       "    <tr>\n",
       "      <th>2016-01-07</th>\n",
       "      <td>105.51</td>\n",
       "      <td>21.87</td>\n",
       "      <td>106.93</td>\n",
       "      <td>108.09</td>\n",
       "      <td>108.57</td>\n",
       "      <td>108.86</td>\n",
       "      <td>108.27</td>\n",
       "      <td>108.39</td>\n",
       "      <td>NaN</td>\n",
       "      <td>1076.09</td>\n",
       "      <td>98517.0</td>\n",
       "      <td>32573.0</td>\n",
       "      <td>76768.0</td>\n",
       "      <td>3894.0</td>\n",
       "      <td>1777423.0</td>\n",
       "      <td>166.0</td>\n",
       "      <td>2941.0</td>\n",
       "      <td>11758.0</td>\n",
       "      <td>NaN</td>\n",
       "      <td>12058.0</td>\n",
       "    </tr>\n",
       "    <tr>\n",
       "      <th>2016-01-08</th>\n",
       "      <td>105.29</td>\n",
       "      <td>21.83</td>\n",
       "      <td>106.73</td>\n",
       "      <td>107.88</td>\n",
       "      <td>108.36</td>\n",
       "      <td>108.64</td>\n",
       "      <td>107.90</td>\n",
       "      <td>108.23</td>\n",
       "      <td>107.46</td>\n",
       "      <td>1072.90</td>\n",
       "      <td>126175.0</td>\n",
       "      <td>11128.0</td>\n",
       "      <td>26347.0</td>\n",
       "      <td>53428.0</td>\n",
       "      <td>137534.0</td>\n",
       "      <td>3284.0</td>\n",
       "      <td>7154.0</td>\n",
       "      <td>6487.0</td>\n",
       "      <td>600.0</td>\n",
       "      <td>1862.0</td>\n",
       "    </tr>\n",
       "    <tr>\n",
       "      <th>...</th>\n",
       "      <td>...</td>\n",
       "      <td>...</td>\n",
       "      <td>...</td>\n",
       "      <td>...</td>\n",
       "      <td>...</td>\n",
       "      <td>...</td>\n",
       "      <td>...</td>\n",
       "      <td>...</td>\n",
       "      <td>...</td>\n",
       "      <td>...</td>\n",
       "      <td>...</td>\n",
       "      <td>...</td>\n",
       "      <td>...</td>\n",
       "      <td>...</td>\n",
       "      <td>...</td>\n",
       "      <td>...</td>\n",
       "      <td>...</td>\n",
       "      <td>...</td>\n",
       "      <td>...</td>\n",
       "      <td>...</td>\n",
       "    </tr>\n",
       "    <tr>\n",
       "      <th>2021-01-29</th>\n",
       "      <td>173.39</td>\n",
       "      <td>36.29</td>\n",
       "      <td>175.98</td>\n",
       "      <td>179.01</td>\n",
       "      <td>179.91</td>\n",
       "      <td>180.31</td>\n",
       "      <td>179.44</td>\n",
       "      <td>179.92</td>\n",
       "      <td>179.70</td>\n",
       "      <td>1767.80</td>\n",
       "      <td>21223.0</td>\n",
       "      <td>597622.0</td>\n",
       "      <td>32265.0</td>\n",
       "      <td>9106.0</td>\n",
       "      <td>102532.0</td>\n",
       "      <td>4480.0</td>\n",
       "      <td>13010.0</td>\n",
       "      <td>14462.0</td>\n",
       "      <td>76.0</td>\n",
       "      <td>6620.0</td>\n",
       "    </tr>\n",
       "    <tr>\n",
       "      <th>2021-02-01</th>\n",
       "      <td>173.89</td>\n",
       "      <td>36.35</td>\n",
       "      <td>176.55</td>\n",
       "      <td>179.53</td>\n",
       "      <td>180.30</td>\n",
       "      <td>180.58</td>\n",
       "      <td>180.00</td>\n",
       "      <td>180.14</td>\n",
       "      <td>181.18</td>\n",
       "      <td>1770.60</td>\n",
       "      <td>7814.0</td>\n",
       "      <td>489657.0</td>\n",
       "      <td>27440.0</td>\n",
       "      <td>3394.0</td>\n",
       "      <td>38422.0</td>\n",
       "      <td>7522.0</td>\n",
       "      <td>15816.0</td>\n",
       "      <td>18959.0</td>\n",
       "      <td>526.0</td>\n",
       "      <td>2723.0</td>\n",
       "    </tr>\n",
       "    <tr>\n",
       "      <th>2021-02-02</th>\n",
       "      <td>171.48</td>\n",
       "      <td>35.89</td>\n",
       "      <td>174.06</td>\n",
       "      <td>177.19</td>\n",
       "      <td>177.91</td>\n",
       "      <td>178.22</td>\n",
       "      <td>177.64</td>\n",
       "      <td>177.90</td>\n",
       "      <td>177.74</td>\n",
       "      <td>1751.00</td>\n",
       "      <td>18496.0</td>\n",
       "      <td>170826.0</td>\n",
       "      <td>17446.0</td>\n",
       "      <td>7886.0</td>\n",
       "      <td>21356.0</td>\n",
       "      <td>3892.0</td>\n",
       "      <td>3675.0</td>\n",
       "      <td>12561.0</td>\n",
       "      <td>190.0</td>\n",
       "      <td>1688.0</td>\n",
       "    </tr>\n",
       "    <tr>\n",
       "      <th>2021-02-03</th>\n",
       "      <td>171.33</td>\n",
       "      <td>35.89</td>\n",
       "      <td>173.93</td>\n",
       "      <td>176.86</td>\n",
       "      <td>177.79</td>\n",
       "      <td>178.32</td>\n",
       "      <td>177.40</td>\n",
       "      <td>177.34</td>\n",
       "      <td>NaN</td>\n",
       "      <td>1748.20</td>\n",
       "      <td>9872.0</td>\n",
       "      <td>257208.0</td>\n",
       "      <td>21328.0</td>\n",
       "      <td>1895.0</td>\n",
       "      <td>26805.0</td>\n",
       "      <td>2274.0</td>\n",
       "      <td>2783.0</td>\n",
       "      <td>11332.0</td>\n",
       "      <td>NaN</td>\n",
       "      <td>1421.0</td>\n",
       "    </tr>\n",
       "    <tr>\n",
       "      <th>2021-02-04</th>\n",
       "      <td>166.91</td>\n",
       "      <td>34.95</td>\n",
       "      <td>169.52</td>\n",
       "      <td>172.31</td>\n",
       "      <td>173.26</td>\n",
       "      <td>173.56</td>\n",
       "      <td>172.64</td>\n",
       "      <td>173.26</td>\n",
       "      <td>173.56</td>\n",
       "      <td>1703.60</td>\n",
       "      <td>23698.0</td>\n",
       "      <td>823755.0</td>\n",
       "      <td>36196.0</td>\n",
       "      <td>20074.0</td>\n",
       "      <td>354292.0</td>\n",
       "      <td>13199.0</td>\n",
       "      <td>2963.0</td>\n",
       "      <td>18542.0</td>\n",
       "      <td>4200.0</td>\n",
       "      <td>4301.0</td>\n",
       "    </tr>\n",
       "  </tbody>\n",
       "</table>\n",
       "<p>1305 rows × 20 columns</p>\n",
       "</div>"
      ],
      "text/plain": [
       "             close                                                          \\\n",
       "ex_symbol   l_gbsx l_igln  l_phau  l_sgbs  l_sgld  l_xgld s_csgold  s_sgld   \n",
       "datetime                                                                     \n",
       "2016-01-04  102.54  21.26  103.78  105.05  105.53  105.82   105.54  105.91   \n",
       "2016-01-05  102.82  21.32  104.23  105.32  105.81  106.08   105.43  105.65   \n",
       "2016-01-06  103.97  21.55  105.45  106.52  107.06  107.29   106.63  106.80   \n",
       "2016-01-07  105.51  21.87  106.93  108.09  108.57  108.86   108.27  108.39   \n",
       "2016-01-08  105.29  21.83  106.73  107.88  108.36  108.64   107.90  108.23   \n",
       "...            ...    ...     ...     ...     ...     ...      ...     ...   \n",
       "2021-01-29  173.39  36.29  175.98  179.01  179.91  180.31   179.44  179.92   \n",
       "2021-02-01  173.89  36.35  176.55  179.53  180.30  180.58   180.00  180.14   \n",
       "2021-02-02  171.48  35.89  174.06  177.19  177.91  178.22   177.64  177.90   \n",
       "2021-02-03  171.33  35.89  173.93  176.86  177.79  178.32   177.40  177.34   \n",
       "2021-02-04  166.91  34.95  169.52  172.31  173.26  173.56   172.64  173.26   \n",
       "\n",
       "                               amount                                         \\\n",
       "ex_symbol   s_xgld s_zgldus    l_gbsx    l_igln   l_phau   l_sgbs     l_sgld   \n",
       "datetime                                                                       \n",
       "2016-01-04  105.86  1048.21   35927.0   48848.0  33808.0   1567.0    24000.0   \n",
       "2016-01-05     NaN  1046.98   33608.0    9965.0  36818.0  10031.0    83773.0   \n",
       "2016-01-06     NaN  1060.15   64732.0   46331.0  64272.0  18042.0  1111497.0   \n",
       "2016-01-07     NaN  1076.09   98517.0   32573.0  76768.0   3894.0  1777423.0   \n",
       "2016-01-08  107.46  1072.90  126175.0   11128.0  26347.0  53428.0   137534.0   \n",
       "...            ...      ...       ...       ...      ...      ...        ...   \n",
       "2021-01-29  179.70  1767.80   21223.0  597622.0  32265.0   9106.0   102532.0   \n",
       "2021-02-01  181.18  1770.60    7814.0  489657.0  27440.0   3394.0    38422.0   \n",
       "2021-02-02  177.74  1751.00   18496.0  170826.0  17446.0   7886.0    21356.0   \n",
       "2021-02-03     NaN  1748.20    9872.0  257208.0  21328.0   1895.0    26805.0   \n",
       "2021-02-04  173.56  1703.60   23698.0  823755.0  36196.0  20074.0   354292.0   \n",
       "\n",
       "                                                        \n",
       "ex_symbol    l_xgld s_csgold   s_sgld  s_xgld s_zgldus  \n",
       "datetime                                                \n",
       "2016-01-04   4897.0   4263.0   8163.0  2000.0    542.0  \n",
       "2016-01-05   3206.0   1110.0   8000.0     NaN   2986.0  \n",
       "2016-01-06   7774.0   6468.0  33995.0     NaN   4357.0  \n",
       "2016-01-07    166.0   2941.0  11758.0     NaN  12058.0  \n",
       "2016-01-08   3284.0   7154.0   6487.0   600.0   1862.0  \n",
       "...             ...      ...      ...     ...      ...  \n",
       "2021-01-29   4480.0  13010.0  14462.0    76.0   6620.0  \n",
       "2021-02-01   7522.0  15816.0  18959.0   526.0   2723.0  \n",
       "2021-02-02   3892.0   3675.0  12561.0   190.0   1688.0  \n",
       "2021-02-03   2274.0   2783.0  11332.0     NaN   1421.0  \n",
       "2021-02-04  13199.0   2963.0  18542.0  4200.0   4301.0  \n",
       "\n",
       "[1305 rows x 20 columns]"
      ]
     },
     "execution_count": 58,
     "metadata": {},
     "output_type": "execute_result"
    }
   ],
   "source": [
    "df.groupby(['ex_symbol','datetime']).mean().unstack(0)"
   ]
  },
  {
   "cell_type": "markdown",
   "metadata": {},
   "source": [
    "# matplotlib\n",
    "Here we get an view on the amount and close during the time interval"
   ]
  },
  {
   "cell_type": "code",
   "execution_count": 64,
   "metadata": {},
   "outputs": [],
   "source": [
    "df['datetime'] = pd.to_datetime(df['datetime'])"
   ]
  },
  {
   "cell_type": "code",
   "execution_count": 65,
   "metadata": {},
   "outputs": [
    {
     "data": {
      "text/plain": [
       "<AxesSubplot:xlabel='datetime'>"
      ]
     },
     "execution_count": 65,
     "metadata": {},
     "output_type": "execute_result"
    },
    {
     "data": {
      "image/png": "[encoded data removed]",
      "text/plain": [
       "<Figure size 432x288 with 1 Axes>"
      ]
     },
     "metadata": {
      "needs_background": "light"
     },
     "output_type": "display_data"
    }
   ],
   "source": [
    "df.plot.line(x='datetime', y='amount', colormap='viridis', grid=False)"
   ]
  },
  {
   "cell_type": "code",
   "execution_count": 66,
   "metadata": {},
   "outputs": [
    {
     "data": {
      "text/plain": [
       "<AxesSubplot:xlabel='datetime'>"
      ]
     },
     "execution_count": 66,
     "metadata": {},
     "output_type": "execute_result"
    },
    {
     "data": {
      "image/png": "[encoded data removed]",
      "text/plain": [
       "<Figure size 432x288 with 1 Axes>"
      ]
     },
     "metadata": {
      "needs_background": "light"
     },
     "output_type": "display_data"
    }
   ],
   "source": [
    "df.plot.line(x='datetime', y='close', colormap='viridis', grid=False)"
   ]
  },
  {
   "cell_type": "markdown",
   "metadata": {},
   "source": [
    "# \n",
    "mean and standard diviation for amount in the normal distribution"
   ]
  },
  {
   "cell_type": "code",
   "execution_count": 67,
   "metadata": {},
   "outputs": [
    {
     "data": {
      "text/plain": [
       "[<matplotlib.lines.Line2D at 0x12d73d310>]"
      ]
     },
     "execution_count": 67,
     "metadata": {},
     "output_type": "execute_result"
    },
    {
     "data": {
      "image/png": "[encoded data removed]",
      "text/plain": [
       "<Figure size 432x288 with 1 Axes>"
      ]
     },
     "metadata": {
      "needs_background": "light"
     },
     "output_type": "display_data"
    }
   ],
   "source": [
    "x_min = 1.0\n",
    "x_max = 1.7\n",
    "\n",
    "mean = 1.0\n",
    "std = 4.3\n",
    "\n",
    "x = np.arange(-14, 14, 0.0014)\n",
    "\n",
    "y = scipy.stats.norm.pdf(x,mean,std)\n",
    "\n",
    "plt.ylim(0,0.15)\n",
    "\n",
    "plt.title('normal distribution of amount with matplotlib',fontsize=10)\n",
    "plt.xlabel('x')\n",
    "plt.ylabel('y')\n",
    "plt.savefig(\"normal.png\")\n",
    "plt.plot(x,y, color='black')"
   ]
  }
 ],
 "metadata": {
  "kernelspec": {
   "display_name": "Python 3",
   "language": "python",
   "name": "python3"
  },
  "language_info": {
   "codemirror_mode": {
    "name": "ipython",
    "version": 3
   },
   "file_extension": ".py",
   "mimetype": "text/x-python",
   "name": "python",
   "nbconvert_exporter": "python",
   "pygments_lexer": "ipython3",
   "version": "3.8.5"
  }
 },
 "nbformat": 4,
 "nbformat_minor": 4
}
