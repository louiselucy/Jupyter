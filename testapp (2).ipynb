{
 "cells": [
  {
   "cell_type": "markdown",
   "metadata": {},
   "source": [
    "DEPENDENCIES"
   ]
  },
  {
   "cell_type": "code",
   "execution_count": 1,
   "metadata": {},
   "outputs": [],
   "source": [
    "import dash\n",
    "import dash_core_components as dcc\n",
    "import dash_html_components as html\n",
    "import plotly.express as px\n",
    "import pandas as pd"
   ]
  },
  {
   "cell_type": "code",
   "execution_count": 2,
   "metadata": {},
   "outputs": [
    {
     "name": "stdout",
     "output_type": "stream",
     "text": [
      " * Serving Flask app \"__main__\" (lazy loading)\n",
      " * Environment: production\n",
      "\u001b[31m   WARNING: This is a development server. Do not use it in a production deployment.\u001b[0m\n",
      "\u001b[2m   Use a production WSGI server instead.\u001b[0m\n",
      " * Debug mode: on\n"
     ]
    },
    {
     "name": "stderr",
     "output_type": "stream",
     "text": [
      " * Running on http://127.0.0.1:8050/ (Press CTRL+C to quit)\n",
      " * Restarting with fsevents reloader\n"
     ]
    },
    {
     "ename": "SystemExit",
     "evalue": "1",
     "output_type": "error",
     "traceback": [
      "An exception has occurred, use %tb to see the full traceback.\n",
      "\u001b[0;31mSystemExit\u001b[0m\u001b[0;31m:\u001b[0m 1\n"
     ]
    },
    {
     "name": "stderr",
     "output_type": "stream",
     "text": [
      "/Users/lobe/opt/anaconda3/lib/python3.8/site-packages/IPython/core/interactiveshell.py:3426: UserWarning:\n",
      "\n",
      "To exit: use 'exit', 'quit', or Ctrl-D.\n",
      "\n"
     ]
    }
   ],
   "source": [
    "external_stylesheets = ['https://codepen.io/chriddyp/pen/bWLwgP.css']\n",
    "\n",
    "app = dash.Dash(__name__, external_stylesheets=external_stylesheets)\n",
    "\n",
    "# assume you have a \"long-form\" data frame\n",
    "# see https://plotly.com/python/px-arguments/ for more options\n",
    "df = pd.DataFrame({\n",
    "    \"Fruit\": [\"Apples\", \"Oranges\", \"Bananas\", \"Apples\", \"Oranges\", \"Bananas\"],\n",
    "    \"Amount\": [4, 1, 2, 2, 4, 5],\n",
    "    \"City\": [\"SF\", \"SF\", \"SF\", \"Montreal\", \"Montreal\", \"Montreal\"]\n",
    "})\n",
    "\n",
    "fig = px.bar(df, x=\"Fruit\", y=\"Amount\", color=\"City\", barmode=\"group\")\n",
    "\n",
    "app.layout = html.Div(children=[\n",
    "    html.H1(children='Hello Dash'),\n",
    "\n",
    "    html.Div(children='''\n",
    "        Dash: A web application framework for Python.\n",
    "    '''),\n",
    "\n",
    "    dcc.Graph(\n",
    "        id='example-graph',\n",
    "        figure=fig\n",
    "    )\n",
    "])\n",
    "\n",
    "if __name__ == '__main__':\n",
    "    app.run_server(debug=True)"
   ]
  },
  {
   "cell_type": "markdown",
   "metadata": {},
   "source": [
    "LAYOUT"
   ]
  },
  {
   "cell_type": "markdown",
   "metadata": {},
   "source": [
    "DATA"
   ]
  },
  {
   "cell_type": "code",
   "execution_count": 3,
   "metadata": {},
   "outputs": [],
   "source": [
    "df = pd.read_csv('/Users/lucy/Documents/Vinter/query_result.csv')"
   ]
  },
  {
   "cell_type": "code",
   "execution_count": 4,
   "metadata": {},
   "outputs": [
    {
     "data": {
      "text/html": [
       "<div>\n",
       "<style scoped>\n",
       "    .dataframe tbody tr th:only-of-type {\n",
       "        vertical-align: middle;\n",
       "    }\n",
       "\n",
       "    .dataframe tbody tr th {\n",
       "        vertical-align: top;\n",
       "    }\n",
       "\n",
       "    .dataframe thead th {\n",
       "        text-align: right;\n",
       "    }\n",
       "</style>\n",
       "<table border=\"1\" class=\"dataframe\">\n",
       "  <thead>\n",
       "    <tr style=\"text-align: right;\">\n",
       "      <th></th>\n",
       "      <th>ID</th>\n",
       "      <th>Created At</th>\n",
       "      <th>Timestamp</th>\n",
       "      <th>Date Time</th>\n",
       "      <th>Symbol</th>\n",
       "      <th>Exchange</th>\n",
       "      <th>Open</th>\n",
       "      <th>High</th>\n",
       "      <th>Low</th>\n",
       "      <th>Close</th>\n",
       "      <th>Amount</th>\n",
       "    </tr>\n",
       "  </thead>\n",
       "  <tbody>\n",
       "    <tr>\n",
       "      <th>0</th>\n",
       "      <td>1</td>\n",
       "      <td>2021-02-02T09:28:17.373722Z</td>\n",
       "      <td>1612258740000</td>\n",
       "      <td>2021-02-02T09:39:00Z</td>\n",
       "      <td>btc-usd</td>\n",
       "      <td>bitfinex</td>\n",
       "      <td>35310.00</td>\n",
       "      <td>35313.00</td>\n",
       "      <td>35270.00</td>\n",
       "      <td>35270.00</td>\n",
       "      <td>1.139180</td>\n",
       "    </tr>\n",
       "    <tr>\n",
       "      <th>1</th>\n",
       "      <td>2</td>\n",
       "      <td>2021-02-02T09:28:17.373758Z</td>\n",
       "      <td>1612258740000</td>\n",
       "      <td>2021-02-02T09:39:00Z</td>\n",
       "      <td>btc-usd</td>\n",
       "      <td>bitstamp</td>\n",
       "      <td>35226.31</td>\n",
       "      <td>35226.31</td>\n",
       "      <td>35205.47</td>\n",
       "      <td>35205.47</td>\n",
       "      <td>0.738424</td>\n",
       "    </tr>\n",
       "    <tr>\n",
       "      <th>2</th>\n",
       "      <td>3</td>\n",
       "      <td>2021-02-02T09:28:17.373774Z</td>\n",
       "      <td>1612258620000</td>\n",
       "      <td>2021-02-02T09:37:00Z</td>\n",
       "      <td>btc-usd</td>\n",
       "      <td>gdax</td>\n",
       "      <td>35307.72</td>\n",
       "      <td>35322.10</td>\n",
       "      <td>35297.95</td>\n",
       "      <td>35304.44</td>\n",
       "      <td>1.662340</td>\n",
       "    </tr>\n",
       "    <tr>\n",
       "      <th>3</th>\n",
       "      <td>4</td>\n",
       "      <td>2021-02-02T09:28:17.373787Z</td>\n",
       "      <td>1612258740000</td>\n",
       "      <td>2021-02-02T09:39:00Z</td>\n",
       "      <td>btc-usd</td>\n",
       "      <td>gemini</td>\n",
       "      <td>35226.78</td>\n",
       "      <td>35226.78</td>\n",
       "      <td>35226.78</td>\n",
       "      <td>35226.78</td>\n",
       "      <td>0.006440</td>\n",
       "    </tr>\n",
       "    <tr>\n",
       "      <th>4</th>\n",
       "      <td>5</td>\n",
       "      <td>2021-02-02T09:28:17.3738Z</td>\n",
       "      <td>1612258740000</td>\n",
       "      <td>2021-02-02T09:39:00Z</td>\n",
       "      <td>btc-usd</td>\n",
       "      <td>kraken</td>\n",
       "      <td>35242.50</td>\n",
       "      <td>35242.50</td>\n",
       "      <td>35196.00</td>\n",
       "      <td>35226.60</td>\n",
       "      <td>5.575631</td>\n",
       "    </tr>\n",
       "  </tbody>\n",
       "</table>\n",
       "</div>"
      ],
      "text/plain": [
       "   ID                   Created At      Timestamp             Date Time  \\\n",
       "0   1  2021-02-02T09:28:17.373722Z  1612258740000  2021-02-02T09:39:00Z   \n",
       "1   2  2021-02-02T09:28:17.373758Z  1612258740000  2021-02-02T09:39:00Z   \n",
       "2   3  2021-02-02T09:28:17.373774Z  1612258620000  2021-02-02T09:37:00Z   \n",
       "3   4  2021-02-02T09:28:17.373787Z  1612258740000  2021-02-02T09:39:00Z   \n",
       "4   5    2021-02-02T09:28:17.3738Z  1612258740000  2021-02-02T09:39:00Z   \n",
       "\n",
       "    Symbol  Exchange      Open      High       Low     Close    Amount  \n",
       "0  btc-usd  bitfinex  35310.00  35313.00  35270.00  35270.00  1.139180  \n",
       "1  btc-usd  bitstamp  35226.31  35226.31  35205.47  35205.47  0.738424  \n",
       "2  btc-usd      gdax  35307.72  35322.10  35297.95  35304.44  1.662340  \n",
       "3  btc-usd    gemini  35226.78  35226.78  35226.78  35226.78  0.006440  \n",
       "4  btc-usd    kraken  35242.50  35242.50  35196.00  35226.60  5.575631  "
      ]
     },
     "execution_count": 4,
     "metadata": {},
     "output_type": "execute_result"
    }
   ],
   "source": [
    "df.head()"
   ]
  },
  {
   "cell_type": "markdown",
   "metadata": {},
   "source": [
    "Define callback to update graph"
   ]
  },
  {
   "cell_type": "code",
   "execution_count": null,
   "metadata": {},
   "outputs": [],
   "source": [
    "@app.callback(\n",
    "    Output('graph', 'figure'),\n",
    "    [Input(\"column-dropdown\", \"value\")]\n",
    ")\n",
    "def update_figure(column):\n",
    "    return px.scatter(\n",
    "        df, x=column, y=\"Y\",\n",
    "        render_mode=\"webgl\", title=\"Scatter Plot\"\n",
    "    )"
   ]
  },
  {
   "cell_type": "code",
   "execution_count": null,
   "metadata": {},
   "outputs": [],
   "source": [
    "GRAPHS"
   ]
  },
  {
   "cell_type": "markdown",
   "metadata": {},
   "source": [
    "DATA PROCESSING"
   ]
  },
  {
   "cell_type": "code",
   "execution_count": null,
   "metadata": {},
   "outputs": [],
   "source": []
  },
  {
   "cell_type": "code",
   "execution_count": null,
   "metadata": {},
   "outputs": [],
   "source": []
  },
  {
   "cell_type": "markdown",
   "metadata": {},
   "source": [
    "DASH APP"
   ]
  },
  {
   "cell_type": "code",
   "execution_count": null,
   "metadata": {},
   "outputs": [],
   "source": []
  },
  {
   "cell_type": "code",
   "execution_count": null,
   "metadata": {},
   "outputs": [],
   "source": []
  },
  {
   "cell_type": "markdown",
   "metadata": {},
   "source": [
    "PAGE HEADER"
   ]
  },
  {
   "cell_type": "code",
   "execution_count": null,
   "metadata": {},
   "outputs": [],
   "source": []
  },
  {
   "cell_type": "code",
   "execution_count": null,
   "metadata": {},
   "outputs": [],
   "source": []
  },
  {
   "cell_type": "markdown",
   "metadata": {},
   "source": [
    "RUN APP"
   ]
  },
  {
   "cell_type": "code",
   "execution_count": null,
   "metadata": {},
   "outputs": [],
   "source": []
  },
  {
   "cell_type": "code",
   "execution_count": null,
   "metadata": {},
   "outputs": [],
   "source": []
  }
 ],
 "metadata": {
  "kernelspec": {
   "display_name": "Python 3",
   "language": "python",
   "name": "python3"
  },
  "language_info": {
   "codemirror_mode": {
    "name": "ipython",
    "version": 3
   },
   "file_extension": ".py",
   "mimetype": "text/x-python",
   "name": "python",
   "nbconvert_exporter": "python",
   "pygments_lexer": "ipython3",
   "version": "3.8.5"
  }
 },
 "nbformat": 4,
 "nbformat_minor": 4
}
